{
 "cells": [
  {
   "cell_type": "markdown",
   "metadata": {},
   "source": [
    "# ボストンの住宅価格の予測\n",
    " 使えるデータ　➡　説明変数 ( RM , NOV , ... )  \n",
    " 予測対象　➡　目的変数 ( MEDV )  \n",
    " RM　➡　MEDV ( 単回帰 )  "
   ]
  },
  {
   "cell_type": "code",
   "execution_count": 1,
   "metadata": {
    "ExecuteTime": {
     "end_time": "2019-10-01T05:41:48.447187Z",
     "start_time": "2019-10-01T05:41:43.685621Z"
    }
   },
   "outputs": [],
   "source": [
    "import warnings\n",
    "\n",
    "import matplotlib.pyplot as plt\n",
    "import numpy as np\n",
    "import pandas as pd\n",
    "import seaborn as sns\n",
    "\n",
    "warnings.filterwarnings('ignore')\n",
    "\n",
    "%matplotlib inline"
   ]
  },
  {
   "cell_type": "markdown",
   "metadata": {},
   "source": [
    "## データの準備"
   ]
  },
  {
   "cell_type": "code",
   "execution_count": 2,
   "metadata": {
    "ExecuteTime": {
     "end_time": "2019-10-01T05:41:50.126162Z",
     "start_time": "2019-10-01T05:41:48.449058Z"
    }
   },
   "outputs": [],
   "source": [
    "from sklearn.datasets import load_boston\n",
    "\n",
    "boston = load_boston()"
   ]
  },
  {
   "cell_type": "code",
   "execution_count": 27,
   "metadata": {
    "ExecuteTime": {
     "end_time": "2019-10-01T05:54:40.190246Z",
     "start_time": "2019-10-01T05:54:40.184261Z"
    }
   },
   "outputs": [],
   "source": [
    "# ボストンの住宅地のデータを行列Xに格納\n",
    "# 地価データをベクトルyに格納\n",
    "X = boston.data[:, 5]\n",
    "y = boston.target"
   ]
  },
  {
   "cell_type": "code",
   "execution_count": 28,
   "metadata": {
    "ExecuteTime": {
     "end_time": "2019-10-01T05:54:41.110798Z",
     "start_time": "2019-10-01T05:54:40.855450Z"
    }
   },
   "outputs": [
    {
     "name": "stdout",
     "output_type": "stream",
     "text": [
      "(404,) (102,)\n",
      "(404,) (102,)\n"
     ]
    },
    {
     "data": {
      "text/plain": [
       "<matplotlib.legend.Legend at 0x2012e2d2208>"
      ]
     },
     "execution_count": 28,
     "metadata": {},
     "output_type": "execute_result"
    },
    {
     "data": {
      "image/png": "[encoded data removed]",
      "text/plain": [
       "<Figure size 432x288 with 1 Axes>"
      ]
     },
     "metadata": {
      "needs_background": "light"
     },
     "output_type": "display_data"
    }
   ],
   "source": [
    "from sklearn.model_selection import train_test_split\n",
    "\n",
    "X_train, X_test, y_train, y_test = train_test_split(X, y, train_size=0.8, random_state=0)\n",
    "\n",
    "print(X_train.shape, X_test.shape)\n",
    "print(X_train.shape, X_test.shape)\n",
    "\n",
    "plt.scatter(X_train, y_train, label='Training data')\n",
    "plt.scatter(X_test, y_test, label='Test data')\n",
    "\n",
    "plt.xlabel('RM')\n",
    "plt.ylabel('MEDV')\n",
    "\n",
    "plt.legend()"
   ]
  },
  {
   "cell_type": "code",
   "execution_count": 5,
   "metadata": {
    "ExecuteTime": {
     "end_time": "2019-10-01T03:36:51.852049Z",
     "start_time": "2019-10-01T03:36:51.778414Z"
    }
   },
   "outputs": [
    {
     "data": {
      "text/html": [
       "<div>\n",
       "<style scoped>\n",
       "    .dataframe tbody tr th:only-of-type {\n",
       "        vertical-align: middle;\n",
       "    }\n",
       "\n",
       "    .dataframe tbody tr th {\n",
       "        vertical-align: top;\n",
       "    }\n",
       "\n",
       "    .dataframe thead th {\n",
       "        text-align: right;\n",
       "    }\n",
       "</style>\n",
       "<table border=\"1\" class=\"dataframe\">\n",
       "  <thead>\n",
       "    <tr style=\"text-align: right;\">\n",
       "      <th></th>\n",
       "      <th>RM</th>\n",
       "      <th>MEDV</th>\n",
       "    </tr>\n",
       "  </thead>\n",
       "  <tbody>\n",
       "    <tr>\n",
       "      <td>0</td>\n",
       "      <td>6.575</td>\n",
       "      <td>24.0</td>\n",
       "    </tr>\n",
       "    <tr>\n",
       "      <td>1</td>\n",
       "      <td>6.421</td>\n",
       "      <td>21.6</td>\n",
       "    </tr>\n",
       "    <tr>\n",
       "      <td>2</td>\n",
       "      <td>7.185</td>\n",
       "      <td>34.7</td>\n",
       "    </tr>\n",
       "    <tr>\n",
       "      <td>3</td>\n",
       "      <td>6.998</td>\n",
       "      <td>33.4</td>\n",
       "    </tr>\n",
       "    <tr>\n",
       "      <td>4</td>\n",
       "      <td>7.147</td>\n",
       "      <td>36.2</td>\n",
       "    </tr>\n",
       "  </tbody>\n",
       "</table>\n",
       "</div>"
      ],
      "text/plain": [
       "      RM  MEDV\n",
       "0  6.575  24.0\n",
       "1  6.421  21.6\n",
       "2  7.185  34.7\n",
       "3  6.998  33.4\n",
       "4  7.147  36.2"
      ]
     },
     "execution_count": 5,
     "metadata": {},
     "output_type": "execute_result"
    }
   ],
   "source": [
    "\n",
    "df = pd.DataFrame(X, columns=boston.feature_names)\n",
    "df['MEDV'] = y\n",
    "df = df[['RM', 'MEDV']]\n",
    "df.head()"
   ]
  },
  {
   "cell_type": "markdown",
   "metadata": {
    "ExecuteTime": {
     "end_time": "2019-10-01T03:37:10.139533Z",
     "start_time": "2019-10-01T03:37:10.132555Z"
    },
    "code_folding": []
   },
   "source": [
    "## RMとMEDVの関係性を観察する"
   ]
  },
  {
   "cell_type": "code",
   "execution_count": 23,
   "metadata": {
    "ExecuteTime": {
     "end_time": "2019-10-01T04:08:20.475949Z",
     "start_time": "2019-10-01T04:08:20.084013Z"
    }
   },
   "outputs": [
    {
     "data": {
      "text/plain": [
       "[<matplotlib.lines.Line2D at 0x1c258502288>]"
      ]
     },
     "execution_count": 23,
     "metadata": {},
     "output_type": "execute_result"
    },
    {
     "data": {
      "image/png": "[encoded data removed]",
      "text/plain": [
       "<Figure size 432x288 with 1 Axes>"
      ]
     },
     "metadata": {
      "needs_background": "light"
     },
     "output_type": "display_data"
    }
   ],
   "source": [
    "# 部屋数と地価の関係をプロット\n",
    "sns.scatterplot(df['RM'],df['MEDV'])\n",
    "\n",
    "# 予測の直線を描画する\n",
    "\n",
    "# RMの最小値からRMの最大値を0.01刻みにしたデータを生成 \n",
    "x_line = np.arange(df['RM'].min(), df['RM'].max(), step=0.01)\n",
    "\n",
    "# 予測値の計算 ( .predict(X)で予測できる )\n",
    "y_pred = linear_regression.predict(x_line.reshape(-1, 1))\n",
    "\n",
    "# 直線を描画\n",
    "plt.plot(x_line, y_pred, c='r')"
   ]
  },
  {
   "cell_type": "markdown",
   "metadata": {},
   "source": [
    "## この分布に従う関数を予測\n",
    "- y = ax + b\n",
    "- y = ax^2 + bx + c  \n",
    "☝を数理モデルと呼ぶ  \n",
    "未知数a,b,cを決めるのが学習  \n",
    "\n",
    "yi~ = axi + b  \n",
    "(x1, y1)  \n",
    "&nbsp;&nbsp;   :  \n",
    "&nbsp;&nbsp;   :  \n",
    "(xn, yn)"
   ]
  },
  {
   "cell_type": "markdown",
   "metadata": {},
   "source": [
    "## 最小2乗法\n",
    "2乗和誤差を最小にする<br>\n",
    "誤差を損失という"
   ]
  },
  {
   "cell_type": "markdown",
   "metadata": {},
   "source": [
    "## 予測モデルの構築"
   ]
  },
  {
   "cell_type": "code",
   "execution_count": 29,
   "metadata": {
    "ExecuteTime": {
     "end_time": "2019-10-01T05:57:55.427067Z",
     "start_time": "2019-10-01T05:57:55.342296Z"
    }
   },
   "outputs": [
    {
     "data": {
      "text/plain": [
       "LinearRegression(copy_X=True, fit_intercept=True, n_jobs=None, normalize=False)"
      ]
     },
     "execution_count": 29,
     "metadata": {},
     "output_type": "execute_result"
    }
   ],
   "source": [
    "from sklearn.linear_model import LinearRegression\n",
    "\n",
    "linear_regression = LinearRegression()\n",
    "\n",
    "# 学習 ( = 未知のパラメータの最適化 )\n",
    "linear_regression.fit(X_train.reshape(-1, 1), y_train)"
   ]
  },
  {
   "cell_type": "markdown",
   "metadata": {},
   "source": [
    "## 結果の確認"
   ]
  },
  {
   "cell_type": "code",
   "execution_count": 19,
   "metadata": {
    "ExecuteTime": {
     "end_time": "2019-10-01T04:03:05.030756Z",
     "start_time": "2019-10-01T04:03:05.009772Z"
    }
   },
   "outputs": [
    {
     "name": "stdout",
     "output_type": "stream",
     "text": [
      "MEDV = 9.10 RM + -34.67\n"
     ]
    }
   ],
   "source": [
    "a = linear_regression.coef_[0]\n",
    "b = linear_regression.intercept_\n",
    "a, b\n",
    "print(f'MEDV = {a:.2f} RM + {b:.2f}')"
   ]
  },
  {
   "cell_type": "markdown",
   "metadata": {},
   "source": [
    "果たして正しい予測ができているのだろうか？  \n",
    "未知のデータをどれだけ正しく予測できるか？ ( 汎化性能 )\n",
    "- 善し悪しの基準 ( 評価指標 Metrics )\n",
    "- どうやって測るか ( 評価プロトコル )"
   ]
  },
  {
   "cell_type": "code",
   "execution_count": 24,
   "metadata": {
    "ExecuteTime": {
     "end_time": "2019-10-01T05:27:19.563572Z",
     "start_time": "2019-10-01T05:27:19.550606Z"
    }
   },
   "outputs": [
    {
     "data": {
      "text/plain": [
       "0.4835254559913343"
      ]
     },
     "execution_count": 24,
     "metadata": {},
     "output_type": "execute_result"
    }
   ],
   "source": [
    "linear_regression.score(df[['RM']], y)"
   ]
  },
  {
   "cell_type": "markdown",
   "metadata": {},
   "source": [
    "\n",
    "自分の持っているデータを分割し、モデルデータとテストデータに分ける"
   ]
  },
  {
   "cell_type": "code",
   "execution_count": 31,
   "metadata": {
    "ExecuteTime": {
     "end_time": "2019-10-01T06:02:25.352627Z",
     "start_time": "2019-10-01T06:02:25.129224Z"
    }
   },
   "outputs": [
    {
     "data": {
      "text/plain": [
       "[<matplotlib.lines.Line2D at 0x2012f479e48>]"
      ]
     },
     "execution_count": 31,
     "metadata": {},
     "output_type": "execute_result"
    },
    {
     "data": {
      "image/png": "[encoded data removed]",
      "text/plain": [
       "<Figure size 432x288 with 1 Axes>"
      ]
     },
     "metadata": {
      "needs_background": "light"
     },
     "output_type": "display_data"
    }
   ],
   "source": [
    "# 部屋数と地価の関係をプロット\n",
    "plt.scatter(X_train, y_train, label='Training data')\n",
    "plt.scatter(X_test, y_test, label='Test data')\n",
    "\n",
    "# 予測の直線を描画する\n",
    "\n",
    "# RMの最小値からRMの最大値を0.01刻みにしたデータを生成 \n",
    "x_line = np.arange(3, 9, step=0.01)\n",
    "\n",
    "# 予測値の計算 ( .predict(X)で予測できる )\n",
    "y_pred = linear_regression.predict(x_line.reshape(-1, 1))\n",
    "\n",
    "# 直線を描画\n",
    "plt.plot(x_line, y_pred, c='r')"
   ]
  },
  {
   "cell_type": "code",
   "execution_count": 37,
   "metadata": {
    "ExecuteTime": {
     "end_time": "2019-10-01T06:08:06.172209Z",
     "start_time": "2019-10-01T06:08:06.163263Z"
    }
   },
   "outputs": [
    {
     "name": "stdout",
     "output_type": "stream",
     "text": [
      "R^2 Train: 0.497\n",
      "R^2 Test: 0.424\n"
     ]
    }
   ],
   "source": [
    "r2_score_train = linear_regression.score(X_train.reshape(-1, 1), y_train)\n",
    "print(f'R^2 Train: {r2_score_train:.3f}')\n",
    "\n",
    "r2_score_test = linear_regression.score(X_test.reshape(-1, 1), y_test)\n",
    "print(f'R^2 Test: {r2_score_test:.3f}')"
   ]
  },
  {
   "cell_type": "markdown",
   "metadata": {
    "ExecuteTime": {
     "end_time": "2019-10-01T06:18:40.427086Z",
     "start_time": "2019-10-01T06:18:40.423128Z"
    }
   },
   "source": [
    "ホールドアウト ( 誤った判断 )"
   ]
  },
  {
   "cell_type": "markdown",
   "metadata": {},
   "source": [
    "単回帰: y = w0 + w1x ( 変数がxの1つのみ )  \n",
    "重回帰: y = w0 + w1x + w2x2 + ... + wnxn ( 変数が2つ以上 )  \n",
    "多項式回帰: y = w0 + w1x1 + w2x^2 + ... wnx^n  \n",
    "\n",
    "☝すべて線形回帰  \n",
    "☟に行けば行くほど表現力 ( 複雑度 )が高い  \n",
    "<br>\n",
    "モデルの複雑度は高ければ高いほどいいというわけではなく、調整しないといけない  \n",
    "- データ数を増やすと、表現力が高くても対応ができる  \n",
    "- 複雑度を下げる ( 正則化 )"
   ]
  },
  {
   "cell_type": "code",
   "execution_count": null,
   "metadata": {},
   "outputs": [],
   "source": []
  }
 ],
 "metadata": {
  "kernelspec": {
   "display_name": "Python 3",
   "language": "python",
   "name": "python3"
  },
  "language_info": {
   "codemirror_mode": {
    "name": "ipython",
    "version": 3
   },
   "file_extension": ".py",
   "mimetype": "text/x-python",
   "name": "python",
   "nbconvert_exporter": "python",
   "pygments_lexer": "ipython3",
   "version": "3.7.4"
  },
  "toc": {
   "base_numbering": 1,
   "nav_menu": {},
   "number_sections": true,
   "sideBar": true,
   "skip_h1_title": false,
   "title_cell": "Table of Contents",
   "title_sidebar": "Contents",
   "toc_cell": false,
   "toc_position": {},
   "toc_section_display": true,
   "toc_window_display": false
  }
 },
 "nbformat": 4,
 "nbformat_minor": 2
}
